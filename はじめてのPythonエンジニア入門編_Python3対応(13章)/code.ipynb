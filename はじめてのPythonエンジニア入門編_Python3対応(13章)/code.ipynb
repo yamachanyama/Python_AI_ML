{
  "nbformat": 4,
  "nbformat_minor": 0,
  "metadata": {
    "colab": {
      "provenance": [],
      "authorship_tag": "ABX9TyNY+w1lz5xb78UlGBNCJFH2",
      "include_colab_link": true
    },
    "kernelspec": {
      "name": "python3",
      "display_name": "Python 3"
    },
    "language_info": {
      "name": "python"
    }
  },
  "cells": [
    {
      "cell_type": "markdown",
      "metadata": {
        "id": "view-in-github",
        "colab_type": "text"
      },
      "source": [
        "<a href=\"https://colab.research.google.com/github/yamachanyama/Python_AI_ML/blob/main/%E3%81%AF%E3%81%98%E3%82%81%E3%81%A6%E3%81%AEPython%E3%82%A8%E3%83%B3%E3%82%B8%E3%83%8B%E3%82%A2%E5%85%A5%E9%96%80%E7%B7%A8_Python3%E5%AF%BE%E5%BF%9C(13%E7%AB%A0).ipynb\" target=\"_parent\"><img src=\"https://colab.research.google.com/assets/colab-badge.svg\" alt=\"Open In Colab\"/></a>"
      ]
    },
    {
      "cell_type": "code",
      "execution_count": 5,
      "metadata": {
        "id": "tHb1V96T-WZP",
        "outputId": "ce1fba28-3a0f-4de7-ea37-a27455d492a8",
        "colab": {
          "base_uri": "https://localhost:8080/",
          "height": 279
        }
      },
      "outputs": [
        {
          "output_type": "display_data",
          "data": {
            "text/plain": [
              "<Figure size 432x288 with 1 Axes>"
            ],
            "image/png": "[encoded data removed]"
          },
          "metadata": {
            "needs_background": "light"
          }
        }
      ],
      "source": [
        "from matplotlib import pyplot\n",
        "from sklearn.cluster import KMeans\n",
        "import pandas\n",
        "\n",
        "# CSVファイルの読み込み\n",
        "data = pandas.read_csv('https://raw.githubusercontent.com/yamachanyama/Python_AI_ML/main/smalldata.csv', encoding='utf_8')\n",
        "\n",
        "# クラスタリングの実行\n",
        "N = 4\n",
        "model = KMeans(n_clusters=N).fit(data[['price', 'calorie']])\n",
        "\n",
        "# 散布図の描画\n",
        "pyplot.figure('menu')\n",
        "pyplot.xlabel('price')\n",
        "pyplot.ylabel('calorie')\n",
        "c = ['rgbymck'[x] for x in model.labels_]\n",
        "pyplot.scatter(data['price'], data['calorie'], color=c)\n",
        "pyplot.show()"
      ]
    }
  ]
}
