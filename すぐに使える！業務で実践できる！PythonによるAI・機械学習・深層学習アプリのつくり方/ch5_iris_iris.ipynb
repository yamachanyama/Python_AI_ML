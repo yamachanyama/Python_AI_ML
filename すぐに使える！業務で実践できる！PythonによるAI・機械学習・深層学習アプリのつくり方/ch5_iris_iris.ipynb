{
  "cells": [
    {
      "cell_type": "markdown",
      "metadata": {
        "id": "view-in-github",
        "colab_type": "text"
      },
      "source": [
        "<a href=\"https://colab.research.google.com/github/yamachanyama/Python_AI_ML/blob/main/ch5_iris_iris.ipynb\" target=\"_parent\"><img src=\"https://colab.research.google.com/assets/colab-badge.svg\" alt=\"Open In Colab\"/></a>"
      ]
    },
    {
      "cell_type": "code",
      "execution_count": null,
      "metadata": {
        "id": "xY1CbXNeNHfy"
      },
      "outputs": [],
      "source": [
        "import tensorflow as tf\n",
        "import tensorflow.keras as keras\n",
        "from sklearn.model_selection import train_test_split\n",
        "import pandas as pd\n",
        "import numpy as np"
      ]
    },
    {
      "cell_type": "code",
      "execution_count": null,
      "metadata": {
        "scrolled": false,
        "id": "okTPI_N3NHgC"
      },
      "outputs": [],
      "source": [
        "# アヤメデータの読み込み --- (*1)\n",
        "iris_data = pd.read_csv(\"https://raw.githubusercontent.com/yamachanyama/Python_AI_ML/main/%E3%81%99%E3%81%90%E3%81%AB%E4%BD%BF%E3%81%88%E3%82%8B%EF%BC%81%E6%A5%AD%E5%8B%99%E3%81%A7%E5%AE%9F%E8%B7%B5%E3%81%A7%E3%81%8D%E3%82%8B%EF%BC%81Python%E3%81%AB%E3%82%88%E3%82%8BAI%E3%83%BB%E6%A9%9F%E6%A2%B0%E5%AD%A6%E7%BF%92%E3%83%BB%E6%B7%B1%E5%B1%A4%E5%AD%A6%E7%BF%92%E3%82%A2%E3%83%97%E3%83%AA%E3%81%AE%E3%81%A4%E3%81%8F%E3%82%8A%E6%96%B9/iris.csv\", encoding=\"utf-8\")\n",
        "\n",
        "# アヤメデータをラベルと入力データに分離する\n",
        "y_labels = iris_data.loc[:,\"Name\"]\n",
        "x_data = iris_data.loc[:,\n",
        "    [\"SepalLength\",\"SepalWidth\",\"PetalLength\",\"PetalWidth\"]]\n",
        "\n",
        "# ラベルデータをone-hotベクトルに直す\n",
        "labels = {\n",
        "    'Iris-setosa': [1, 0, 0],\n",
        "    'Iris-versicolor': [0, 1, 0],\n",
        "    'Iris-virginica': [0, 0, 1]\n",
        "}\n",
        "y_nums = np.array(list(map(lambda v : labels[v] , y_labels))) #https://www.sejuku.net/blog/21812\n",
        "x_data = np.array(x_data)\n"
      ]
    },
    {
      "cell_type": "code",
      "execution_count": null,
      "metadata": {
        "id": "dAOTWYNoNHgF"
      },
      "outputs": [],
      "source": [
        "# 学習用とテスト用に分割する --- (*2)\n",
        "x_train, x_test, y_train, y_test = train_test_split(\n",
        "    x_data, y_nums, train_size=0.8)\n"
      ]
    },
    {
      "cell_type": "code",
      "execution_count": null,
      "metadata": {
        "id": "JUEhtfwHNHgL"
      },
      "outputs": [],
      "source": [
        "# モデル構造を定義 --- (*3)\n",
        "\n",
        "import tensorflow as tf\n",
        "import tensorflow.keras as keras\n",
        "Dense = keras.layers.Dense\n"
      ]
    },
    {
      "cell_type": "code",
      "execution_count": null,
      "metadata": {
        "colab": {
          "base_uri": "https://localhost:8080/",
          "height": 35
        },
        "id": "eknwk6XHNHgO",
        "outputId": "18f222a5-00d3-4cf8-b740-9b28530aef0d"
      },
      "outputs": [
        {
          "output_type": "display_data",
          "data": {
            "text/plain": [
              "<Figure size 2000x1200 with 0 Axes>"
            ]
          },
          "metadata": {}
        }
      ],
      "source": [
        "%matplotlib inline\n",
        "import matplotlib.pyplot as plt\n",
        "from pylab import rcParams\n",
        "plt.figure(figsize=(10,6),dpi=200)\n",
        "plt.rcParams['figure.figsize'] = (10 ,6)\n",
        "\n",
        "def fit(epochs):\n",
        "    # モデルの構造を定義\n",
        "    model = keras.models.Sequential()\n",
        "    model.add(Dense(10, activation='relu', input_shape=(4,)))\n",
        "    model.add(Dense(3, activation='softmax'))\n",
        "    # モデルを構築\n",
        "    model.compile(\n",
        "        loss='categorical_crossentropy',\n",
        "        optimizer='adam',\n",
        "        metrics=['accuracy'])\n",
        "    # 学習を実行\n",
        "    result = model.fit(x_train, y_train,\n",
        "        batch_size=20,\n",
        "        epochs=epochs)\n",
        "    # モデルを評価\n",
        "    score = model.evaluate(x_test, y_test, verbose=1)\n",
        "    print('正解率=', score[1], 'loss=', score[0])\n",
        "    # グラフを描画\n",
        "    plt.plot(range(1, epochs+1), result.history['accuracy'], label=\"training\")\n",
        "    plt.plot(range(1, epochs+1), result.history['loss'], label=\"loss\")\n",
        "    plt.xlabel('Epochs=' + str(epochs))\n",
        "    plt.ylabel('Accuracy')\n",
        "    plt.legend()\n",
        "    plt.show()\n",
        "\n"
      ]
    },
    {
      "cell_type": "code",
      "execution_count": null,
      "metadata": {
        "id": "8EU95iCENHgU"
      },
      "outputs": [],
      "source": [
        "fit(10)"
      ]
    },
    {
      "cell_type": "code",
      "execution_count": null,
      "metadata": {
        "id": "MXUnSr_ZNHgZ"
      },
      "outputs": [],
      "source": [
        "fit(100)"
      ]
    },
    {
      "cell_type": "code",
      "execution_count": null,
      "metadata": {
        "id": "kPkmgAEwNHgd"
      },
      "outputs": [],
      "source": [
        "fit(300)"
      ]
    }
  ],
  "metadata": {
    "kernelspec": {
      "display_name": "Python 3",
      "language": "python",
      "name": "python3"
    },
    "language_info": {
      "codemirror_mode": {
        "name": "ipython",
        "version": 3
      },
      "file_extension": ".py",
      "mimetype": "text/x-python",
      "name": "python",
      "nbconvert_exporter": "python",
      "pygments_lexer": "ipython3",
      "version": "3.7.4"
    },
    "colab": {
      "provenance": [],
      "include_colab_link": true
    }
  },
  "nbformat": 4,
  "nbformat_minor": 0
}
