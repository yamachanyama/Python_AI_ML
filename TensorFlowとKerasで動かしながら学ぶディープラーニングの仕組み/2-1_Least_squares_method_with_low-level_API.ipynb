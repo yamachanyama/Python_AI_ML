{
  "nbformat": 4,
  "nbformat_minor": 0,
  "metadata": {
    "colab": {
      "provenance": [],
      "collapsed_sections": [],
      "include_colab_link": true
    },
    "kernelspec": {
      "name": "python3",
      "display_name": "Python 3"
    }
  },
  "cells": [
    {
      "cell_type": "markdown",
      "metadata": {
        "id": "view-in-github",
        "colab_type": "text"
      },
      "source": [
        "<a href=\"https://colab.research.google.com/github/yamachanyama/Python_AI_ML/blob/main/1_Least_squares_method_with_low_level_API.ipynb\" target=\"_parent\"><img src=\"https://colab.research.google.com/assets/colab-badge.svg\" alt=\"Open In Colab\"/></a>"
      ]
    },
    {
      "cell_type": "markdown",
      "metadata": {
        "id": "CbJ273-zXvzb"
      },
      "source": [
        "# Least Squares Method with Low-level API"
      ]
    },
    {
      "cell_type": "markdown",
      "metadata": {
        "id": "wg-evE3LWM-O"
      },
      "source": [
        "Note: This notebook is desinged to run with Python3 and CPU (no GPU) runtime.\n",
        "\n",
        "![Python 3 and CPU runtime](https://raw.githubusercontent.com/enakai00/colab_tfbook/master/docs/imgs/runtime_cpu.png)"
      ]
    },
    {
      "cell_type": "markdown",
      "metadata": {
        "id": "zr6_EW8A5Gmv"
      },
      "source": [
        "This notebook uses TensorFlow 1.x."
      ]
    },
    {
      "cell_type": "code",
      "metadata": {
        "id": "JbkalBlu_tTK",
        "outputId": "22bac618-1d8f-4f26-cc69-a6d98b4e2615",
        "colab": {
          "base_uri": "https://localhost:8080/",
          "height": 382
        }
      },
      "source": [
        "%tensorflow_version 1.x"
      ],
      "execution_count": null,
      "outputs": [
        {
          "output_type": "error",
          "ename": "ValueError",
          "evalue": "ignored",
          "traceback": [
            "\u001b[0;31m---------------------------------------------------------------------------\u001b[0m",
            "\u001b[0;31mValueError\u001b[0m                                Traceback (most recent call last)",
            "\u001b[0;32m<ipython-input-1-8d2919c1d33c>\u001b[0m in \u001b[0;36m<module>\u001b[0;34m\u001b[0m\n\u001b[0;32m----> 1\u001b[0;31m \u001b[0mget_ipython\u001b[0m\u001b[0;34m(\u001b[0m\u001b[0;34m)\u001b[0m\u001b[0;34m.\u001b[0m\u001b[0mrun_line_magic\u001b[0m\u001b[0;34m(\u001b[0m\u001b[0;34m'tensorflow_version'\u001b[0m\u001b[0;34m,\u001b[0m \u001b[0;34m'1.x'\u001b[0m\u001b[0;34m)\u001b[0m\u001b[0;34m\u001b[0m\u001b[0;34m\u001b[0m\u001b[0m\n\u001b[0m",
            "\u001b[0;32m/usr/local/lib/python3.7/dist-packages/IPython/core/interactiveshell.py\u001b[0m in \u001b[0;36mrun_line_magic\u001b[0;34m(self, magic_name, line, _stack_depth)\u001b[0m\n\u001b[1;32m   2312\u001b[0m                 \u001b[0mkwargs\u001b[0m\u001b[0;34m[\u001b[0m\u001b[0;34m'local_ns'\u001b[0m\u001b[0;34m]\u001b[0m \u001b[0;34m=\u001b[0m \u001b[0msys\u001b[0m\u001b[0;34m.\u001b[0m\u001b[0m_getframe\u001b[0m\u001b[0;34m(\u001b[0m\u001b[0mstack_depth\u001b[0m\u001b[0;34m)\u001b[0m\u001b[0;34m.\u001b[0m\u001b[0mf_locals\u001b[0m\u001b[0;34m\u001b[0m\u001b[0;34m\u001b[0m\u001b[0m\n\u001b[1;32m   2313\u001b[0m             \u001b[0;32mwith\u001b[0m \u001b[0mself\u001b[0m\u001b[0;34m.\u001b[0m\u001b[0mbuiltin_trap\u001b[0m\u001b[0;34m:\u001b[0m\u001b[0;34m\u001b[0m\u001b[0;34m\u001b[0m\u001b[0m\n\u001b[0;32m-> 2314\u001b[0;31m                 \u001b[0mresult\u001b[0m \u001b[0;34m=\u001b[0m \u001b[0mfn\u001b[0m\u001b[0;34m(\u001b[0m\u001b[0;34m*\u001b[0m\u001b[0margs\u001b[0m\u001b[0;34m,\u001b[0m \u001b[0;34m**\u001b[0m\u001b[0mkwargs\u001b[0m\u001b[0;34m)\u001b[0m\u001b[0;34m\u001b[0m\u001b[0;34m\u001b[0m\u001b[0m\n\u001b[0m\u001b[1;32m   2315\u001b[0m             \u001b[0;32mreturn\u001b[0m \u001b[0mresult\u001b[0m\u001b[0;34m\u001b[0m\u001b[0;34m\u001b[0m\u001b[0m\n\u001b[1;32m   2316\u001b[0m \u001b[0;34m\u001b[0m\u001b[0m\n",
            "\u001b[0;32m/usr/local/lib/python3.7/dist-packages/google/colab/_tensorflow_magics.py\u001b[0m in \u001b[0;36m_tensorflow_version\u001b[0;34m(line)\u001b[0m\n\u001b[1;32m     39\u001b[0m \u001b[0;34m\u001b[0m\u001b[0m\n\u001b[1;32m     40\u001b[0m              \u001b[0mYour\u001b[0m \u001b[0mnotebook\u001b[0m \u001b[0mshould\u001b[0m \u001b[0mbe\u001b[0m \u001b[0mupdated\u001b[0m \u001b[0mto\u001b[0m \u001b[0muse\u001b[0m \u001b[0mTensorflow\u001b[0m \u001b[0;36m2.\u001b[0m\u001b[0;34m\u001b[0m\u001b[0;34m\u001b[0m\u001b[0m\n\u001b[0;32m---> 41\u001b[0;31m              \u001b[0mSee\u001b[0m \u001b[0mthe\u001b[0m \u001b[0mguide\u001b[0m \u001b[0mat\u001b[0m \u001b[0mhttps\u001b[0m\u001b[0;34m:\u001b[0m\u001b[0;34m//\u001b[0m\u001b[0mwww\u001b[0m\u001b[0;34m.\u001b[0m\u001b[0mtensorflow\u001b[0m\u001b[0;34m.\u001b[0m\u001b[0morg\u001b[0m\u001b[0;34m/\u001b[0m\u001b[0mguide\u001b[0m\u001b[0;34m/\u001b[0m\u001b[0mmigrate\u001b[0m\u001b[0;31m#migrate-from-tensorflow-1x-to-tensorflow-2.\"\"\"\u001b[0m\u001b[0;34m\u001b[0m\u001b[0;34m\u001b[0m\u001b[0m\n\u001b[0m\u001b[1;32m     42\u001b[0m                        ))\n\u001b[1;32m     43\u001b[0m \u001b[0;34m\u001b[0m\u001b[0m\n",
            "\u001b[0;31mValueError\u001b[0m: Tensorflow 1 is unsupported in Colab.\n\nYour notebook should be updated to use Tensorflow 2.\nSee the guide at https://www.tensorflow.org/guide/migrate#migrate-from-tensorflow-1x-to-tensorflow-2."
          ]
        }
      ]
    },
    {
      "cell_type": "markdown",
      "metadata": {
        "id": "VJO3PPzqsq8d"
      },
      "source": [
        "####[LSL-01]\n",
        "Import modules."
      ]
    },
    {
      "cell_type": "code",
      "metadata": {
        "id": "gB5UUoAXIVmC"
      },
      "source": [
        "import numpy as np\n",
        "import matplotlib.pyplot as plt\n",
        "import tensorflow as tf"
      ],
      "execution_count": null,
      "outputs": []
    },
    {
      "cell_type": "markdown",
      "metadata": {
        "id": "yz2h7_8St1wi"
      },
      "source": [
        "####[LSL-02]\n",
        "Prepare the training dateset."
      ]
    },
    {
      "cell_type": "code",
      "metadata": {
        "id": "ASgzWK5AjWvn"
      },
      "source": [
        "train_t = np.array([5.2, 5.7, 8.6, 14.9, 18.2, 20.4,\n",
        "                    25.5, 26.4, 22.8, 17.5, 11.1, 6.6])\n",
        "train_t = train_t.reshape([12, 1])\n",
        "train_x = np.array([[mon**n for n in range(0, 5)]\n",
        "                    for mon in range(1, 13)])"
      ],
      "execution_count": null,
      "outputs": []
    },
    {
      "cell_type": "markdown",
      "metadata": {
        "id": "SAVhouWduMh7"
      },
      "source": [
        "####[LSL-03]\n",
        "`train_x` contains the list $[x^0, x^1, x^2, x^3, x^4]$ for $x=1,...,12$."
      ]
    },
    {
      "cell_type": "code",
      "metadata": {
        "id": "Hp4EnlqvToYN",
        "outputId": "3c24382b-fab0-48e8-cdbf-f841a61ce3f9",
        "colab": {
          "base_uri": "https://localhost:8080/"
        }
      },
      "source": [
        "train_x"
      ],
      "execution_count": null,
      "outputs": [
        {
          "output_type": "execute_result",
          "data": {
            "text/plain": [
              "array([[    1,     1,     1,     1,     1],\n",
              "       [    1,     2,     4,     8,    16],\n",
              "       [    1,     3,     9,    27,    81],\n",
              "       [    1,     4,    16,    64,   256],\n",
              "       [    1,     5,    25,   125,   625],\n",
              "       [    1,     6,    36,   216,  1296],\n",
              "       [    1,     7,    49,   343,  2401],\n",
              "       [    1,     8,    64,   512,  4096],\n",
              "       [    1,     9,    81,   729,  6561],\n",
              "       [    1,    10,   100,  1000, 10000],\n",
              "       [    1,    11,   121,  1331, 14641],\n",
              "       [    1,    12,   144,  1728, 20736]])"
            ]
          },
          "metadata": {},
          "execution_count": 4
        }
      ]
    },
    {
      "cell_type": "markdown",
      "metadata": {
        "id": "qdQ0Tp2IvFy8"
      },
      "source": [
        "####[LSL-04]\n",
        "`train_t` contins the corresponding lables for $x=1,...,12$."
      ]
    },
    {
      "cell_type": "code",
      "metadata": {
        "id": "tpL_niBTXggS",
        "outputId": "c059ef69-3af3-4d25-84fb-a35defdf84ca",
        "colab": {
          "base_uri": "https://localhost:8080/"
        }
      },
      "source": [
        "train_t"
      ],
      "execution_count": null,
      "outputs": [
        {
          "output_type": "execute_result",
          "data": {
            "text/plain": [
              "array([[ 5.2],\n",
              "       [ 5.7],\n",
              "       [ 8.6],\n",
              "       [14.9],\n",
              "       [18.2],\n",
              "       [20.4],\n",
              "       [25.5],\n",
              "       [26.4],\n",
              "       [22.8],\n",
              "       [17.5],\n",
              "       [11.1],\n",
              "       [ 6.6]])"
            ]
          },
          "metadata": {
            "tags": []
          },
          "execution_count": 6
        }
      ]
    },
    {
      "cell_type": "markdown",
      "metadata": {
        "id": "fmnjQdqAvQRw"
      },
      "source": [
        "####[LSL-05]\n",
        "Definie a placeholder to hold the training dataset."
      ]
    },
    {
      "cell_type": "code",
      "metadata": {
        "id": "BakcuKxdQoSL"
      },
      "source": [
        "x = tf.placeholder(tf.float32, [None, 5])"
      ],
      "execution_count": null,
      "outputs": []
    },
    {
      "cell_type": "markdown",
      "metadata": {
        "id": "efpWHnG3ep6b"
      },
      "source": [
        "####[LSL-06]\n",
        "Definie variables for weights."
      ]
    },
    {
      "cell_type": "code",
      "metadata": {
        "id": "kfxoIs4PZbxc"
      },
      "source": [
        "w = tf.Variable(tf.zeros([5, 1]))"
      ],
      "execution_count": null,
      "outputs": []
    },
    {
      "cell_type": "markdown",
      "metadata": {
        "id": "CokPQLJZezOa"
      },
      "source": [
        "####[LSL-07]\n",
        "Definie a ploynomial to predict label values."
      ]
    },
    {
      "cell_type": "code",
      "metadata": {
        "id": "NrBwyvASZiCs"
      },
      "source": [
        "y = tf.matmul(x, w)"
      ],
      "execution_count": null,
      "outputs": []
    },
    {
      "cell_type": "markdown",
      "metadata": {
        "id": "RJnDglfne6OM"
      },
      "source": [
        "####[LSL-08]\n",
        "Definie a placeholder to hold the label values."
      ]
    },
    {
      "cell_type": "code",
      "metadata": {
        "id": "-YCXdrhUZniE"
      },
      "source": [
        "t = tf.placeholder(tf.float32, [None, 1])"
      ],
      "execution_count": null,
      "outputs": []
    },
    {
      "cell_type": "markdown",
      "metadata": {
        "id": "fBltXsSRvZn0"
      },
      "source": [
        "####[LSL-09]\n",
        "Definine a loss function as Square error."
      ]
    },
    {
      "cell_type": "code",
      "metadata": {
        "id": "NQcsk7oMZpni"
      },
      "source": [
        "loss = tf.reduce_sum(tf.square(y-t))"
      ],
      "execution_count": null,
      "outputs": []
    },
    {
      "cell_type": "markdown",
      "metadata": {
        "id": "YDNieEQlfYlt"
      },
      "source": [
        "####[LSL-10]\n",
        "Define an optimization step  using the Adam optimizer"
      ]
    },
    {
      "cell_type": "code",
      "metadata": {
        "id": "V0uhylUwZrGz"
      },
      "source": [
        "train_step = tf.train.AdamOptimizer().minimize(loss)"
      ],
      "execution_count": null,
      "outputs": []
    },
    {
      "cell_type": "markdown",
      "metadata": {
        "id": "j5tuF6XFfmL7"
      },
      "source": [
        "####[LSL-11]\n",
        "Create a session and initialize variables."
      ]
    },
    {
      "cell_type": "code",
      "metadata": {
        "id": "8H-skyBNZsmF"
      },
      "source": [
        "sess = tf.Session()\n",
        "sess.run(tf.global_variables_initializer())"
      ],
      "execution_count": null,
      "outputs": []
    },
    {
      "cell_type": "markdown",
      "metadata": {
        "id": "PjbE4TVBvqCh"
      },
      "source": [
        "####[LSL-12]\n",
        "Apply the optimization step for 100,000 epochs."
      ]
    },
    {
      "cell_type": "code",
      "metadata": {
        "id": "e5_g4y_WZ0Di",
        "outputId": "40300361-cf04-4fc5-ae70-30a5b9be7e60",
        "colab": {
          "base_uri": "https://localhost:8080/"
        }
      },
      "source": [
        "i = 0\n",
        "for _ in range(100000):\n",
        "    i += 1\n",
        "    sess.run(train_step, feed_dict={x:train_x, t:train_t})\n",
        "    if i % 10000 == 0:\n",
        "        loss_val = sess.run(loss, feed_dict={x:train_x, t:train_t})\n",
        "        print ('Step: {}, Loss: {}'.format(i, loss_val))"
      ],
      "execution_count": null,
      "outputs": [
        {
          "output_type": "stream",
          "text": [
            "Step: 10000, Loss: 31.03305435180664\n",
            "Step: 20000, Loss: 29.29587745666504\n",
            "Step: 30000, Loss: 28.028335571289062\n",
            "Step: 40000, Loss: 26.861082077026367\n",
            "Step: 50000, Loss: 26.942289352416992\n",
            "Step: 60000, Loss: 24.808706283569336\n",
            "Step: 70000, Loss: 23.84157943725586\n",
            "Step: 80000, Loss: 22.980117797851562\n",
            "Step: 90000, Loss: 22.43254852294922\n",
            "Step: 100000, Loss: 21.46685791015625\n"
          ],
          "name": "stdout"
        }
      ]
    },
    {
      "cell_type": "markdown",
      "metadata": {
        "id": "DrFqiUwcwSS4"
      },
      "source": [
        "####[LSL-13]\n",
        "Show weights after the training."
      ]
    },
    {
      "cell_type": "code",
      "metadata": {
        "id": "_vxbUQ7qaOAG",
        "outputId": "cdb0faa0-c126-4c2c-d3d2-703407f0129e",
        "colab": {
          "base_uri": "https://localhost:8080/"
        }
      },
      "source": [
        "sess.run(w)"
      ],
      "execution_count": null,
      "outputs": [
        {
          "output_type": "execute_result",
          "data": {
            "text/plain": [
              "array([[ 3.7626748 ],\n",
              "       [-1.5874788 ],\n",
              "       [ 1.7844566 ],\n",
              "       [-0.20113584],\n",
              "       [ 0.00536442]], dtype=float32)"
            ]
          },
          "metadata": {
            "tags": []
          },
          "execution_count": 16
        }
      ]
    },
    {
      "cell_type": "markdown",
      "metadata": {
        "id": "9ewLkGc-waB4"
      },
      "source": [
        "####[LSL-14]\n",
        "Define a function to predict values using the final weights."
      ]
    },
    {
      "cell_type": "code",
      "metadata": {
        "id": "587A6vekhVdw"
      },
      "source": [
        "ws = sess.run(w)\n",
        "def predict(x):\n",
        "    pred = sum([ws[n][0] * x**n for n in range(0, 5)])\n",
        "    return pred"
      ],
      "execution_count": null,
      "outputs": []
    },
    {
      "cell_type": "markdown",
      "metadata": {
        "id": "8vbl6mtdwi_z"
      },
      "source": [
        "####[LSL-15]\n",
        "Plot a chart for predictions."
      ]
    },
    {
      "cell_type": "code",
      "metadata": {
        "id": "EQCm_ZqJzV7T",
        "outputId": "c0b0edd4-f746-4c8e-8487-ccada2e99f05",
        "colab": {
          "base_uri": "https://localhost:8080/",
          "height": 282
        }
      },
      "source": [
        "fig = plt.figure()\n",
        "subplot = fig.add_subplot(1, 1, 1)\n",
        "subplot.set_xlim(1, 12)\n",
        "subplot.set_xticks(range(1, 13))\n",
        "subplot.scatter(range(1, 13), train_t)\n",
        "xs = np.linspace(1, 12, 100)\n",
        "ys = predict(xs)\n",
        "subplot.plot(xs, ys)"
      ],
      "execution_count": null,
      "outputs": [
        {
          "output_type": "execute_result",
          "data": {
            "text/plain": [
              "[<matplotlib.lines.Line2D at 0x7fccbe7af780>]"
            ]
          },
          "metadata": {
            "tags": []
          },
          "execution_count": 18
        },
        {
          "output_type": "display_data",
          "data": {
            "image/png": "[encoded data removed]",
            "text/plain": [
              "<Figure size 432x288 with 1 Axes>"
            ]
          },
          "metadata": {
            "tags": [],
            "needs_background": "light"
          }
        }
      ]
    }
  ]
}
